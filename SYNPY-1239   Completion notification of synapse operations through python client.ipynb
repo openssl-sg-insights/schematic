{
 "cells": [
  {
   "cell_type": "code",
   "execution_count": null,
   "id": "1dba8015",
   "metadata": {},
   "outputs": [],
   "source": [
    "# Import libs\n",
    "import synapseclient\n",
    "import pandas as pd  \n",
    "import numpy as np\n",
    "from time import sleep"
   ]
  },
  {
   "cell_type": "code",
   "execution_count": null,
   "id": "126fd40d",
   "metadata": {},
   "outputs": [],
   "source": [
    "# login to synapse\n",
    "syn = synapseclient.login()"
   ]
  },
  {
   "cell_type": "code",
   "execution_count": null,
   "id": "8c22c5fa",
   "metadata": {},
   "outputs": [],
   "source": [
    "# initialize variables and mock table data\n",
    "tableID = 'syn42877666'\n",
    "projectID = \"syn27042964\"\n",
    "length = 500000\n",
    "data = np.array(range(0,length))\n",
    "index = list(range(0,len(data)))\n",
    "\n",
    "# build table\n",
    "df = pd.DataFrame(data = data,\n",
    "                 index = index,\n",
    "                 columns = [\"Col 1\"])\n",
    "print(df)\n",
    "schema = synapseclient.Schema(name = \"TableUpdateTest\",\n",
    "                              columns = synapseclient.Column(name=\"Col 1\", columnType='STRING', maximumSize=100),\n",
    "                             parent = projectID)\n",
    "schema.id = tableID\n",
    "table = synapseclient.Table(schema, df)"
   ]
  },
  {
   "cell_type": "code",
   "execution_count": null,
   "id": "ed2bcf1d",
   "metadata": {},
   "outputs": [],
   "source": [
    "# store table\n",
    "syn.store(table)"
   ]
  },
  {
   "cell_type": "code",
   "execution_count": null,
   "id": "df6bac03",
   "metadata": {},
   "outputs": [],
   "source": [
    "# perform table replacement\n",
    "results = results = syn.tableQuery(\"SELECT * FROM {}\".format(tableID))\n",
    "syn.delete(results)\n",
    "\n",
    "# Optional, wait for synapse deletion operation to complete\n",
    "#sleep(20)\n",
    "\n",
    "# store empty table\n",
    "current_table = syn.get(tableID)\n",
    "syn.store(current_table)"
   ]
  },
  {
   "cell_type": "markdown",
   "id": "a149c184",
   "metadata": {},
   "source": [
    "## "
   ]
  }
 ],
 "metadata": {
  "kernelspec": {
   "display_name": "Python 3 (ipykernel)",
   "language": "python",
   "name": "python3"
  },
  "language_info": {
   "codemirror_mode": {
    "name": "ipython",
    "version": 3
   },
   "file_extension": ".py",
   "mimetype": "text/x-python",
   "name": "python",
   "nbconvert_exporter": "python",
   "pygments_lexer": "ipython3",
   "version": "3.9.7"
  },
  "widgets": {
   "application/vnd.jupyter.widget-state+json": {
    "state": {},
    "version_major": 2,
    "version_minor": 0
   }
  }
 },
 "nbformat": 4,
 "nbformat_minor": 5
}
